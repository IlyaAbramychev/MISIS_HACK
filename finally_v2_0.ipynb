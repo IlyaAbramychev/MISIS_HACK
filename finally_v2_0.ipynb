{
 "cells": [
  {
   "cell_type": "markdown",
   "metadata": {},
   "source": [
    "# Шаг 1: Конвертация резюме в JSON"
   ]
  },
  {
   "cell_type": "code",
   "execution_count": 64,
   "metadata": {},
   "outputs": [],
   "source": [
    "import os\n",
    "import docx\n",
    "import PyPDF2"
   ]
  },
  {
   "cell_type": "code",
   "execution_count": 65,
   "metadata": {},
   "outputs": [],
   "source": [
    "def extract_text_from_pdf(path):\n",
    "    read_pdf = PyPDF2.PdfReader(open(path, 'rb'))\n",
    "    number_of_pages = len(read_pdf.pages)\n",
    "    page_content = ''\n",
    "    for i in range(number_of_pages):\n",
    "        page = read_pdf.pages[i]\n",
    "        page_content += page.extract_text()\n",
    "    return page_content\n",
    "\n",
    "def extract_text_from_doc(path):\n",
    "    import win32com.client\n",
    "    word = win32com.client.Dispatch(\"Word.Application\")\n",
    "    doc = word.Documents.Open(path)\n",
    "    doc_content = doc.Range().Text\n",
    "    doc.Close()\n",
    "    word.Quit()\n",
    "    return doc_content\n",
    "\n",
    "def extract_text_from_docx(path):\n",
    "    doc = docx.Document(path)\n",
    "    full_text = []\n",
    "    for para in doc.paragraphs:\n",
    "        full_text.append(para.text)\n",
    "    return '\\n'.join(full_text)\n",
    "\n",
    "def extract_text(path):\n",
    "    base, ext = os.path.splitext(path)\n",
    "    if ext == '.pdf':\n",
    "        return extract_text_from_pdf(path)\n",
    "    elif ext == '.docx':\n",
    "        return extract_text_from_docx(path)\n",
    "    elif ext == '.doc':\n",
    "        return extract_text_from_doc(path)\n",
    "    else:\n",
    "        return 'Неизвестный формат файла'"
   ]
  },
  {
   "cell_type": "markdown",
   "metadata": {},
   "source": [
    "# Шаг 2: Извлечение сущностей с использованием SpaCy"
   ]
  },
  {
   "cell_type": "code",
   "execution_count": 75,
   "metadata": {},
   "outputs": [],
   "source": [
    "import spacy\n",
    "import re\n",
    "import json\n",
    "import uuid"
   ]
  },
  {
   "cell_type": "code",
   "execution_count": 76,
   "metadata": {},
   "outputs": [],
   "source": [
    "nlp = spacy.load('ru_core_news_sm')"
   ]
  },
  {
   "cell_type": "code",
   "execution_count": 77,
   "metadata": {},
   "outputs": [],
   "source": [
    "def extract_entities(text):\n",
    "    doc = nlp(text)\n",
    "    sections = {\n",
    "        \"education\": \"\",\n",
    "        \"experience\": \"\",\n",
    "        \"skills\": \"\",\n",
    "        \"contact\": \"\",\n",
    "        \"summary\": \"\",\n",
    "        \"languages\": \"\"\n",
    "    }\n",
    "\n",
    "    patterns = {\n",
    "        \"education\": r\"(Образование|Education|EDUCATION)([\\s\\S]*?)(?=(Опыт работы|Experience|EXPERIENCE|Навыки|Skills|SKILLS|Контакты|Contact|CONTACT|Резюме|Summary|SUMMARY|О себе|About|Objective|OBJECTIVE|$))\",\n",
    "        \"experience\": r\"(Опыт работы|Experience|EXPERIENCE)([\\s\\S]*?)(?=(Образование|Education|EDUCATION|Навыки|Skills|SKILLS|Контакты|Contact|CONTACT|Резюме|Summary|SUMMARY|О себе|About|Objective|OBJECTIVE|$))\",\n",
    "        \"skills\": r\"(Навыки|Skills|SKILLS)([\\s\\S]*?)(?=(Образование|Education|EDUCATION|Опыт работы|Experience|EXPERIENCE|Контакты|Contact|CONTACT|Резюме|Summary|SUMMARY|О себе|About|Objective|OBJECTIVE|$))\",\n",
    "        \"languages\": r\"(Языки|Languages|LANGUAGES)([\\s\\S]*?)(?=(Образование|Education|EDUCATION|Опыт работы|Experience|EXPERIENCE|Навыки|Skills|SKILLS|Контакты|Contact|CONTACT|Резюме|Summary|SUMMARY|О себе|About|Objective|OBJECTIVE|$))\",\n",
    "        \"summary\": r\"(Резюме|Summary|SUMMARY|О себе|About|Objective|OBJECTIVE)([\\s\\S]*?)(?=(Образование|Education|EDUCATION|Опыт работы|Experience|EXPERIENCE|Навыки|Skills|SKILLS|Контакты|Contact|CONTACT|$))\"\n",
    "    }\n",
    "\n",
    "    for key, pattern in patterns.items():\n",
    "        match = re.search(pattern, text, re.IGNORECASE)\n",
    "        if match:\n",
    "            sections[key] = match.group(2).strip()\n",
    "\n",
    "    contact_pattern = re.compile(r\"(\\+?\\d[\\d\\s()-]{7,}\\s*|[a-zA-Z0-9._%+-]+@[a-zA-Z0-9.-]+\\.[a-zA-Z]{2,}\\s*|linkedin\\.com/in/[^\\s]+|github\\.com/[^\\s]+|e-mail:\\s*[^\\s]+)\", re.IGNORECASE)\n",
    "    sections[\"contact\"] = \"\\n\".join(contact_pattern.findall(text))\n",
    "\n",
    "    entities = {\n",
    "        \"first_name\": \"\",\n",
    "        \"last_name\": \"\",\n",
    "        \"middle_name\": \"\",\n",
    "        \"birth_date\": \"\",\n",
    "        \"country\": \"\",\n",
    "        \"city\": \"\"\n",
    "    }\n",
    "\n",
    "    for ent in doc.ents:\n",
    "        if ent.label_ == \"PER\":\n",
    "            name_parts = ent.text.split()\n",
    "            if len(name_parts) >= 2:\n",
    "                entities[\"first_name\"], entities[\"last_name\"] = name_parts[0], name_parts[1]\n",
    "            if len(name_parts) > 2:\n",
    "                entities[\"middle_name\"] = ' '.join(name_parts[2:])\n",
    "        elif ent.label_ == \"DATE\":\n",
    "            entities[\"birth_date\"] = ent.text\n",
    "        elif ent.label_ in [\"GPE\", \"LOC\"]:\n",
    "            if \"country\" in entities and not entities[\"country\"]:\n",
    "                entities[\"country\"] = ent.text\n",
    "            elif \"city\" in entities and not entities[\"city\"]:\n",
    "                entities[\"city\"] = ent.text\n",
    "\n",
    "    return sections, entities"
   ]
  },
  {
   "cell_type": "code",
   "execution_count": 78,
   "metadata": {},
   "outputs": [],
   "source": [
    "def create_json_structure(sections, entities):\n",
    "    resume_data = {\n",
    "        \"resume\": {\n",
    "            \"resume_id\": str(uuid.uuid4()),\n",
    "            \"first_name\": entities[\"first_name\"],\n",
    "            \"last_name\": entities[\"last_name\"],\n",
    "            \"middle_name\": entities[\"middle_name\"],\n",
    "            \"birth_date\": entities[\"birth_date\"],\n",
    "            \"birth_date_year_only\": False,\n",
    "            \"country\": entities[\"country\"],\n",
    "            \"city\": entities[\"city\"],\n",
    "            \"about\": sections[\"summary\"] if sections[\"summary\"] else None,\n",
    "            \"key_skills\": ' '.join([skill.strip() for skill in sections[\"skills\"].split('\\n') if skill.strip()]),\n",
    "            \"salary_expectations_amount\": \"\",\n",
    "            \"salary_expectations_currency\": \"\",\n",
    "            \"photo_path\": \"\",\n",
    "            \"gender\": \"\",\n",
    "            \"resume_name\": \"\",\n",
    "            \"source_link\": \"\",\n",
    "            \"contactItems\": [\n",
    "                {\n",
    "                    \"resume_contact_item_id\": str(uuid.uuid4()),\n",
    "                    \"value\": contact.strip(),\n",
    "                    \"comment\": \"\",\n",
    "                    \"contact_type\": \"phone\" if re.match(r\"\\+?\\d[\\d\\s()-]{7,}\", contact) else \"email\" if \"@\" in contact else \"link\"\n",
    "                } for contact in sections[\"contact\"].split('\\n')\n",
    "            ],\n",
    "            \"educationItems\": [\n",
    "                {\n",
    "                    \"resume_education_item_id\": str(uuid.uuid4()),\n",
    "                    \"year\": \"\",\n",
    "                    \"organization\": \"\",\n",
    "                    \"faculty\": \"\",\n",
    "                    \"specialty\": \"\",\n",
    "                    \"result\": \"\",\n",
    "                    \"education_type\": \"\",\n",
    "                    \"education_level\": \"\"\n",
    "                }\n",
    "            ],\n",
    "            \"experienceItems\": [\n",
    "                {\n",
    "                    \"resume_experience_item_id\": str(uuid.uuid4()),\n",
    "                    \"starts\": \"\",\n",
    "                    \"ends\": \"\",\n",
    "                    \"employer\": \"\",\n",
    "                    \"city\": \"\",\n",
    "                    \"url\": \"\",\n",
    "                    \"position\": \"\",\n",
    "                    \"description\": sections[\"experience\"],\n",
    "                    \"order\": \"\"\n",
    "                }\n",
    "            ],\n",
    "            \"languageItems\": [\n",
    "                {\n",
    "                    \"resume_language_item_id\": str(uuid.uuid4()),\n",
    "                    \"language\": lang.split(':')[0].strip(),\n",
    "                    \"language_level\": lang.split(':')[1].strip() if ':' in lang else \"\"\n",
    "                } for lang in sections[\"languages\"].split('\\n') if lang.strip()\n",
    "            ]\n",
    "        }\n",
    "    }\n",
    "    return resume_data"
   ]
  },
  {
   "cell_type": "code",
   "execution_count": 79,
   "metadata": {},
   "outputs": [],
   "source": [
    "def convert_resume_to_json(path):\n",
    "    text = extract_text(path)\n",
    "    sections, entities = extract_entities(text)\n",
    "    return create_json_structure(sections, entities)"
   ]
  },
  {
   "cell_type": "code",
   "execution_count": 81,
   "metadata": {},
   "outputs": [
    {
     "name": "stdout",
     "output_type": "stream",
     "text": [
      "Конвертированное резюме сохранено в converted_resume.json\n"
     ]
    }
   ],
   "source": [
    "resume_path = 'Examples\\Резюме для 1 кейса Хакатона\\Алексей Тугаенко.docx'  # Путь к файлу резюме\n",
    "resume_json = convert_resume_to_json(resume_path)\n",
    "\n",
    "# Сохранение JSON в файл\n",
    "json_path = 'converted_resume.json'\n",
    "with open(json_path, 'w', encoding='utf-8') as f:\n",
    "    json.dump(resume_json, f, ensure_ascii=False, indent=4)\n",
    "\n",
    "print(\"Конвертированное резюме сохранено в\", json_path)"
   ]
  },
  {
   "cell_type": "code",
   "execution_count": null,
   "metadata": {},
   "outputs": [],
   "source": []
  }
 ],
 "metadata": {
  "kernelspec": {
   "display_name": "Hack",
   "language": "python",
   "name": "python3"
  },
  "language_info": {
   "codemirror_mode": {
    "name": "ipython",
    "version": 3
   },
   "file_extension": ".py",
   "mimetype": "text/x-python",
   "name": "python",
   "nbconvert_exporter": "python",
   "pygments_lexer": "ipython3",
   "version": "3.11.6"
  }
 },
 "nbformat": 4,
 "nbformat_minor": 2
}
